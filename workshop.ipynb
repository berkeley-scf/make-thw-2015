{
 "cells": [
  {
   "cell_type": "markdown",
   "metadata": {},
   "source": [
    "# Using Make to Build Software and Manage Workflows\n",
    "\n",
    "Chris Paciorek\n",
    "\n",
    "Statistical Computing Facility, Department of Statistics, UC Berkeley"
   ]
  },
  {
   "cell_type": "markdown",
   "metadata": {},
   "source": [
    "## Overview and references"
   ]
  },
  {
   "cell_type": "markdown",
   "metadata": {},
   "source": [
    "Make is software that allows you to build software, create files, or carry out other tasks in a way that respects the dependencies amongst a series of files/tasks.\n",
    "\n",
    "It was developed for building software; for example compiling .cpp files to .o files and then linking to build an executable and move the executable into place on a computer. \n",
    "\n",
    "As stated in the Make manual \"You can use make with any programming language whose compiler can be run with a shell command. Indeed, make is not limited to programs. You can use it to describe any task where some files must be updated automatically from others whenever the others change.\"\n",
    "\n",
    "Make is a program that processes a Makefile, which contains the information about the rules to create files or carry out tasks and the dependencies between files/tasks.\n",
    "\n",
    "Here are some useful links:\n",
    "  - [Make manual](http://www.gnu.org/software/make/manual/make.html)\n",
    "\n",
    "  - [Tips on using Make for scientific workflows (data analysis, document preparation, etc.)](http://kbroman.org/minimal_make/)"
   ]
  },
  {
   "cell_type": "markdown",
   "metadata": {},
   "source": [
    "## Basic aspects of a Makefile\n",
    "\n",
    "A Makefile is made up of *rules* that create *targets* (or carry out other tasks).\n",
    "\n",
    "For example, here is a basic rule:\n",
    "\n",
    "`\n",
    "algo.o: algo.cpp defaults.h\n",
    "    g++ -c -o algo.o algo.cpp\n",
    "    `\n",
    "    \n",
    " - Target: algo.o\n",
    " - Prerequisites: algo.cpp defaults.h\n",
    " - Recipe: g++ ...\n",
    " \n",
    " Careful: the recipe line(s) must be indented with a TAB and not with any spaces."
   ]
  },
  {
   "cell_type": "markdown",
   "metadata": {},
   "source": [
    "## Example Makefile for building software"
   ]
  },
  {
   "cell_type": "code",
   "execution_count": 4,
   "metadata": {
    "collapsed": false
   },
   "outputs": [
    {
     "name": "stdout",
     "output_type": "stream",
     "text": [
      "# default rule is the first one\n",
      "algo: vec1.o vecMain.o\n",
      "\tg++ -o algo vec1.o vecMain.o\n",
      "\n",
      "vec1.o: vec1.h base.h vec1.cpp\n",
      "\tg++ -c -o vec1.o vec1.cpp\n",
      "\n",
      "vecMain.o: vec1.h base.h vecMain.cpp\n",
      "\tg++ -c -o vecMain.o vecMain.cpp\n"
     ]
    }
   ],
   "source": [
    "%%bash\n",
    "cat code_example/Makefile"
   ]
  },
  {
   "cell_type": "markdown",
   "metadata": {},
   "source": [
    "If we wanted to create *algo*, we could invoke it specifically \n",
    "```bash \n",
    "make algo\n",
    "``` \n",
    "\n",
    "or just by typing `make`, because the first target is the default.\n",
    "\n",
    "If we just want to create `vecMain.o` we can invoke \n",
    "```bash\n",
    "make vecMain.o\n",
    "```\n",
    "\n",
    "\n",
    "## Dependencies\n",
    "\n",
    "Make only runs a recipe when any of the dependent files have changed. So in the above example, if vecMain.cpp changes and we invoke `make`, compilation of vecMain.o and linking to create algo is done, but compilation of vec1.o is **not** done.\n",
    "\n",
    "As your Makefile involves more recipes and more complicated dependencies you harness more of the power of make.\n",
    "\n",
    "If you try to invoke a rule for which no dependencies have changed, you'll get this message: \"make: Nothing to be done for `foo'.\"\n",
    "\n"
   ]
  },
  {
   "cell_type": "markdown",
   "metadata": {},
   "source": [
    "## Using variables in Makefiles\n",
    "\n",
    "Also, much of the power of make comes from using variables to automate recipes and avoid duplicated syntax. \n",
    "\n",
    "In the above example, we might avoid rewriting multiple header file names by setting a variable:\n",
    "\n",
    "` HEADERS = vec1.h base.h `\n",
    "\n",
    "and using `$(HEADERS)` in place of the file names whereever they appear."
   ]
  },
  {
   "cell_type": "markdown",
   "metadata": {},
   "source": [
    "## Extending the example\n",
    "\n",
    "Here's a more involved example:"
   ]
  },
  {
   "cell_type": "code",
   "execution_count": 5,
   "metadata": {
    "collapsed": false
   },
   "outputs": [
    {
     "name": "stdout",
     "output_type": "stream",
     "text": [
      "DEBUG = True\n",
      "CXX = g++\n",
      "CXXFLAGS = -O\n",
      "LFLAGS = -L /opt/acml/lib\n",
      "INCLUDES = -I/opt/acml/include\n",
      "LIBS = -lm -lacml\n",
      "\n",
      "HEADERS = vec1.h\n",
      "OBJS = vec1.o vecMain.o\n",
      "\n",
      "ifeq ($(DEBUG), True)\n",
      "     CXXFLAGS += -g\n",
      "endif\n",
      "\n",
      "$(HEADERS): base.h\n",
      "\n",
      "algo: $(OBJS)\n",
      "\t$(CXX) $(OBJS) $(LIBS) -o algo\n",
      "\n",
      "vec1.o: $(HEADERS) vec1.cpp\n",
      "\t$(CXX) -c $(CXXFLAGS) $(LFLAGS) $(INCLUDES) -o vec1.o vec1.cpp \n",
      "\n",
      "vecMain.o: $(HEADERS) vecMain.cpp\n",
      "\t$(CXX) -c $(CXXFLAGS) $(LFLAGS) $(INCLUDES) -o vecMain.o vecMain.cpp\n",
      "\n",
      "# prevent confusion if there is a file 'clean'\n",
      ".PHONY: clean\n",
      "\n",
      "clean:\n",
      "        rm -f $(OBJS) algo\n",
      "\n",
      "# more general:\n",
      "# %.o: %.cpp\n",
      "#     $(CXX) -c $(CXXFLAGS) $(LFLAGS) $(INCLUDES) -o $@ $< \n",
      "# or this, which uses substitution\n",
      "# %.o: %.cpp\n",
      "#     $(CXX) -c $(CXXFLAGS) $(LFLAGS) $(INCLUDES) -o $@ $(@:.o=.cpp) \n",
      "# OBJS = $(wildcard *.o)  \n",
      "# use of wildcard forces expansion rather than creating \"*.o\" as OBJS\n",
      "# or OBJS could be any set of .o files\n",
      "# $(OBJS): %.o: %.c\n",
      "#        $(CXX) -c $(CXXFLAGS) $(LFLAGS) $(INCLUDES) $< -o $@\n"
     ]
    }
   ],
   "source": [
    "%%bash\n",
    "cat code_example/Makefile_better"
   ]
  },
  {
   "cell_type": "markdown",
   "metadata": {
    "collapsed": true
   },
   "source": [
    "## What make does\n",
    "\n",
    "Make processes the Makefile, figuring out the dependency tree, evaluating variables, and running the recipes that have prerequisites that have changed. More specifically, it\n",
    "\n",
    " - parses the Makefile\n",
    " - builds up variable chains\n",
    " - builds up a database of rules\n",
    " - looks at the target specified (by default the first target)\n",
    " - creates chain of rules from files that exist to the target\n",
    "     - evaluates needed '=' variable assignments\n",
    " - use date stamps on files to determine what dependencies need to be executed for target to be done"
   ]
  },
  {
   "cell_type": "markdown",
   "metadata": {},
   "source": [
    "## Types of rules\n",
    "\n",
    "We've seen a bunch of explicit rules that directly specify the recipe for a given target. We can also streamline the above by using pattern rules to make a class of targets. Here's a modified version of the Makefile"
   ]
  },
  {
   "cell_type": "code",
   "execution_count": 2,
   "metadata": {
    "collapsed": false
   },
   "outputs": [
    {
     "name": "stdout",
     "output_type": "stream",
     "text": [
      "DEBUG = True\n",
      "CXX = g++\n",
      "CXXFLAGS = -O\n",
      "LFLAGS = -L /opt/acml/lib\n",
      "INCLUDES = -I/opt/acml/include\n",
      "LIBS = -lm -lacml\n",
      "\n",
      "HEADERS = vec1.h\n",
      "# use of wildcard forces expansion rather than creating \"*.o\" as OBJS\n",
      "OBJS = $(wildcard *.o)\n",
      "\n",
      "ifeq ($(DEBUG), True)\n",
      "     CXXFLAGS += -g\n",
      "endif\n",
      "\n",
      "$(HEADERS): base.h\n",
      "\n",
      "algo: $(OBJS)\n",
      "\t$(CXX) $(OBJS) $(LIBS) -o algo\n",
      "\n",
      "# implicit rule\n",
      "%.o: %.cpp\n",
      "     $(CXX) -c $(CXXFLAGS) $(LFLAGS) $(INCLUDES) -o $@ $< \n",
      "\n",
      "# or this, which uses substitution\n",
      "# %.o: %.cpp\n",
      "#     $(CXX) -c $(CXXFLAGS) $(LFLAGS) $(INCLUDES) -o $@ $(@:.o=.cpp) \n",
      "#\n",
      "# or OBJS could be any set of specific .o files\n",
      "# $(OBJS): %.o: %.c\n",
      "#        $(CXX) -c $(CXXFLAGS) $(LFLAGS) $(INCLUDES) $< -o $@\n",
      "\n",
      "# prevent confusion if there is a file 'clean'\n",
      ".PHONY: clean\n",
      "\n",
      "clean:\n",
      "        rm -f $(OBJS) algo\n",
      "\n",
      "\n"
     ]
    }
   ],
   "source": [
    "%%bash\n",
    "cat code_example/Makefile_pattern_rule"
   ]
  },
  {
   "cell_type": "markdown",
   "metadata": {},
   "source": [
    "## More details on defining variables\n",
    "\n",
    " - := causes the assignment to occur at the time the variable is defined\n",
    " - = causes the assignment to occur at the time the variable is used in a command, so order of variable definition does not matter\n",
    " - += appends to the variable, e.g.\n",
    " \n",
    " ```bash\n",
    " CFLAGS += -O\n",
    " ```\n",
    " \n",
    "  - $@ matches the target\n",
    "  - $< matches the first prerequesite\n",
    "  - $^ matches all prerequisites\n",
    " \n",
    " Given the above, what's the problem with this:\n",
    " \n",
    " ```bash\n",
    " CFLAGS = $(CFLAGS) -O\n",
    " ```"
   ]
  },
  {
   "cell_type": "code",
   "execution_count": 12,
   "metadata": {
    "collapsed": false
   },
   "outputs": [
    {
     "name": "stdout",
     "output_type": "stream",
     "text": [
      "# Test 1\n",
      "foo1 = $(bar1)\n",
      "bar1 = $(dum1)\n",
      "dum1 = Huh?\n",
      "\n",
      "# Test 2\n",
      "foo2 := ${bar2}\n",
      "bar2 := Huh?\n",
      "\n",
      "# Test 3\n",
      "foo3 = hi there\n",
      "bar3 := ${foo3}\n",
      "foo3 = see ya\n",
      "\n",
      "# Test 4\n",
      "foo4 = hi there\n",
      "bar4 = ${foo4}\n",
      "foo4 = see ya\n",
      "\n",
      "all:\n",
      "\techo \"Test 1: foo1 is $(foo1)\"\n",
      "\techo \"Test 2: foo2 is $(foo2)\"\n",
      "\techo \"Test 3: bar3 is $(bar3)\"\n",
      "\techo \"Test 3: foo3 is: $(foo3)\"\n",
      "\techo \"Test 4: bar4 is $(bar4)\"\n",
      "\techo \"Test 4: foo4 is $(foo4)\"\n",
      "####################################################\n",
      "Test 1: foo1 is Huh?\n",
      "Test 2: foo2 is \n",
      "Test 3: bar3 is hi there\n",
      "Test 3: foo3 is: see ya\n",
      "Test 4: bar4 is see ya\n",
      "Test 4: foo4 is see ya\n"
     ]
    }
   ],
   "source": [
    "%%bash\n",
    "cat variable_example/Makefile\n",
    "echo \"####################################################\"\n",
    "make --silent -f variable_example/Makefile"
   ]
  },
  {
   "cell_type": "markdown",
   "metadata": {},
   "source": [
    "## Another basic example: preparing documents\n",
    "\n",
    "Here's an example that illustrates how you might use make to prepare presentation materials for a workshop.\n",
    "\n",
    "Note the use of pattern rules and the use of some auxiliary convenience targets to save typing. Also note how you can have a top-level Makefile that calls one more Makefiles elsewhere (often in subdirectories)."
   ]
  },
  {
   "cell_type": "code",
   "execution_count": 14,
   "metadata": {
    "collapsed": false
   },
   "outputs": [
    {
     "name": "stdout",
     "output_type": "stream",
     "text": [
      "BASE_DIR = .\n",
      "MODULES_DIR = $(BASE_DIR)/modules\n",
      "\n",
      "modules: \n",
      "\tcd $(MODULES_DIR) && $(MAKE) all\n",
      "\n",
      "clean:\n",
      "\tcd $(MODULES_DIR) && $(MAKE) clean\n",
      "  \n",
      "################ nested Makefile ##############################\n",
      "  \n",
      ".PHONY: clean  # so clean always done even if a file named clean is present\n",
      "\n",
      "all: clean 0 1 2 3 4 5 6 7 8 9 10 11\n",
      "\n",
      "clean:\n",
      "\trm -rf *.md *.html *.pdf \\\n",
      "\tcache/ figure/\n",
      "# \t-rm -rf *.md *.html *.pdf cache/ figure/  \n",
      "# -rm ignores errors when rm is called\n",
      "\n",
      "\n",
      "%.html: %.Rmd\n",
      "\techo $(@)\n",
      "\t./make_slides $(basename $(@))\n",
      "\trm $(basename $(@)).md   # remove temporary\n",
      "\techo $(basename $(@))\n",
      "\n",
      "0: module0_induction.html\n",
      "1: module1_basics.html\n",
      "2: module2_managingR.html\n",
      "3: module3_data.html\n",
      "4: module4_calc.html\n",
      "5: module5_analysis.html\n",
      "6: module6_programming.html\n",
      "7: module7_coreTools.html\n",
      "8: module8_graphics.html\n",
      "9: module9_workflows.html\n",
      "10: module10_advanced.html\n",
      "11: module11_next.html\n"
     ]
    }
   ],
   "source": [
    "%%bash\n",
    "cat workshop_example/Makefile\n",
    "echo \"  \"\n",
    "echo \"################ nested Makefile ##############################\"\n",
    "echo \"  \"\n",
    "cat workshop_example/modules/Makefile"
   ]
  },
  {
   "cell_type": "code",
   "execution_count": 20,
   "metadata": {
    "collapsed": false
   },
   "outputs": [
    {
     "name": "stdout",
     "output_type": "stream",
     "text": [
      "/accounts/gen/vis/paciorek/staff/workshops/make-thw-2015/workshop_example/modules\n",
      "rm -rf *.md *.html *.pdf \\\n",
      "\tcache/ figure/\n",
      " \n",
      "####################################\n",
      " \n",
      "module0_induction.html\n",
      "[1] \"module0_induction\"\n",
      "\r",
      "  |                                                                       \r",
      "  |                                                                 |   0%\r",
      "  |                                                                       \r",
      "  |.................................................................| 100%\n",
      "  ordinary text without R code\n",
      "\n",
      "\n",
      "\r",
      "  |                                                                       \r",
      "  |                                                                 |   0%\r",
      "  |                                                                       \r",
      "  |.................................................................| 100%\n",
      "  ordinary text without R code\n",
      "\n",
      "\n",
      "module0_induction\n"
     ]
    },
    {
     "name": "stderr",
     "output_type": "stream",
     "text": [
      "\n",
      "\n",
      "processing file: module0_induction.Rmd\n",
      "output file: module0_induction.md\n",
      "\n",
      "\n",
      "\n",
      "processing file: module0_induction.Rmd\n",
      "output file: module0_induction.md\n",
      "\n"
     ]
    }
   ],
   "source": [
    "%%bash\n",
    "cd workshop_example/modules\n",
    "make clean\n",
    "echo \" \"\n",
    "echo \"####################################\"\n",
    "echo \" \"\n",
    "make --silent 0"
   ]
  },
  {
   "cell_type": "markdown",
   "metadata": {},
   "source": [
    "## Functions applied to variables\n",
    "\n",
    "One can apply functions to variables using the following syntax\n",
    "```bash\n",
    "$(function_name argument)\n",
    "```\n",
    "\n",
    "For example to substitute 'html' for 'md' in variable FILE:\n",
    "```bash\n",
    "$(subst html, md, $(FILE))\n",
    "```\n",
    "\n",
    "Some of the functions you can use deal with string substitution and manipulation as well as manipulating file names and extensions and paths.\n",
    "\n",
    "Finally you can use 'if' in the context of functions: `$(if condition,then[,else])'. And there is a foreach function that will iterate over white-spaced separated values in a variable.\n",
    "\n",
    "Here are some examples:"
   ]
  },
  {
   "cell_type": "code",
   "execution_count": 23,
   "metadata": {
    "collapsed": false
   },
   "outputs": [
    {
     "name": "stdout",
     "output_type": "stream",
     "text": [
      ".PHONY: test\n",
      "\n",
      "OPTIMIZE = 1\n",
      "\n",
      "FILE = workshop.md\n",
      "HTMLFILE = $(subst md,html, $(FILE))\n",
      "\n",
      "MDFILES = mod1.md mod2.md default.md example.md\n",
      "FILES = $(patsubst mod%.md,mod%.html, $(MDFILES))\n",
      "\n",
      "INPUT = foo bar foo duh\n",
      "SORTED = $(sort $(INPUT))\n",
      "\n",
      "INPUTFILES = /tmp/foo.c /var/tmp/bar.o\n",
      "INPUTDIRS = $(dir $(INPUTFILES))\n",
      "SUFFIXES = $(suffix $(INPUTFILES))\n",
      "BASES = $(basename $(INPUTFILES))\n",
      "TRANSFORMED = $(addsuffix .cpp, $(BASES))\n",
      "\n",
      "DIRS := code_example workshop_example\n",
      "ALLFILES := $(foreach dir, $(DIRS), $(wildcard $(dir)/*))\n",
      "\n",
      "test:\n",
      "\techo HTMLFILE is $(HTMLFILE)\n",
      "\techo FILES is $(FILES)\n",
      "\techo SORTED is $(SORTED)\n",
      "\techo INPUTDIRS is $(INPUTDIRS)\n",
      "\techo SUFFIXES is $(SUFFIXES)\n",
      "\techo TRANSFORMED is $(TRANSFORMED)\n",
      "\techo ALLFILES is $(ALLFILES)\n",
      "  \n",
      "#############################\n",
      "  \n",
      "HTMLFILE is workshop.html\n",
      "FILES is mod1.html mod2.html default.md example.md\n",
      "SORTED is bar duh foo\n",
      "INPUTDIRS is /tmp/ /var/tmp/\n",
      "SUFFIXES is .c .o\n",
      "TRANSFORMED is /tmp/foo.cpp /var/tmp/bar.cpp\n",
      "ALLFILES is code_example/demo.sh code_example/Makefile code_example/Makefile~ code_example/Makefile_better code_example/Makefile_better~ code_example/Makefile_explicit_rule~ code_example/Makefile_pattern_rule workshop_example/Makefile workshop_example/Makefile~ workshop_example/modules\n"
     ]
    }
   ],
   "source": [
    "%%bash\n",
    "cat functions_example/Makefile\n",
    "echo \"  \"\n",
    "echo \"#############################\"\n",
    "echo \"  \"\n",
    "make --silent -f Makefile_functions "
   ]
  },
  {
   "cell_type": "markdown",
   "metadata": {},
   "source": [
    "## Analysis workflows using make\n",
    "\n",
    "One nice use of make is to automate workflows. As with building software, we have a series of things we want to do as part of an overall workflow. We may want to run one or more of those steps. Or we might want to run the full analysis but without rerunning analyses whose dependencies have not changed. Another benefit of this is just taking a structured, programmatic approach to show exactly what needs to be done for each piece of the analysis. \n",
    "\n",
    "What are the steps you might have in your Makefile?\n",
    "- getting data\n",
    "- preprocessing/cleaning\n",
    "- analysis/modeling\n",
    "- postprocessing output\n",
    "- figures/tables\n",
    "- presentations/papers\n",
    "\n",
    "Here's an example workflow in the form of a Makefile:"
   ]
  },
  {
   "cell_type": "code",
   "execution_count": 25,
   "metadata": {
    "collapsed": false
   },
   "outputs": [
    {
     "name": "stdout",
     "output_type": "stream",
     "text": [
      "INTERIMS = *.aux *.bbl *.blg *.log *.bak *~ *.Rout\n",
      "DATA = *.Rda *.csv\n",
      "USER = paciorek\n",
      "SERVER = foo.berkeley.edu\n",
      "WEBDIR = /web/share/$(USER)/files\n",
      "\n",
      "R_OPTS = --no-save\n",
      "R = R CMD BATCH $(R_OPTS)\n",
      "\n",
      "mypaper.pdf: mypaper.bib mypaper.tex tables.tex Figs/fig1.pdf Figs/fig2.pdf\n",
      "\tpdflatex mypaper\n",
      "\tbibtex mypaper\n",
      "\tpdflatex mypaper\n",
      "\tpdflatex mypaper\n",
      "\n",
      "data.csv: code/make_data.py\n",
      "\tcd code; python make_data.py\n",
      "\n",
      "results.Rda: data.csv model.R\n",
      "\tcd code; $(R) model.R model.Rout\n",
      "\n",
      "tables.tex: results.Rda make_tables.R\n",
      "\tcd code; $(R) make_tables.R make_tables.Rout\n",
      "\n",
      "Figs/fig1.pdf: R/fig1.R results.Rda\n",
      "\tcd code; $(R) fig1.R fig1.Rout\n",
      "\n",
      "Figs/fig2.pdf: R/fig2.R results.Rda\n",
      "\tcd code; $(R) fig2.R fig2.Rout\n",
      "\n",
      "web: *.pdf *.tex *.R *.py\n",
      "\tzip analysis.zip code/*.{R,py} *.pdf *.tex\n",
      "\tscp analysis.zip $(USER)@$(SERVER):$(WEBDIR)/.\n",
      "\n",
      "clean:\n",
      "\trm -f $(INTERIMS)\n",
      "\n",
      "cleanall:\n",
      "\trm -f $(INTERIMS) $(DATA)\n",
      "\n",
      ".PHONY: web clean cleanall\n"
     ]
    }
   ],
   "source": [
    "%%bash\n",
    "cat analysis_example/Makefile"
   ]
  },
  {
   "cell_type": "markdown",
   "metadata": {},
   "source": [
    "## make for building software\n",
    "\n",
    "The standard process for building software from source (in particular on UNIX based systems) uses make:\n",
    "- configure\n",
    "- make \n",
    "- make install\n",
    "\n",
    "In more detail:\n",
    "\n",
    "- The configure script figures out what tools/software you have on your system and sets things up to take account of that in the building and installation. It then creates a Makefile.\n",
    "- make builds the software (e.g., compiling from code to binary) using the Makefile\n",
    "- make install runs the install recipe in the Makefile to put files in the right place (binaries, header files, library files - DLLs/SOs) so that they are readily accessible (e.g., on a user PATH or in a directory where the system looks for header files or library files)\n",
    "\n",
    "Often, the configure file is automatically generated using a tool called autoconf from a file often called configure.ac.\n",
    "\n",
    "It's common to have a 'test' target that will create executables that run tests of the software.\n",
    "\n",
    "### Nested Makefiles\n",
    "\n",
    "In the context of building software, you'll often see nested Makefiles. The top-level Makefile may simply serve to call Makefiles in the various subdirectories. \n",
    "\n",
    "We'll look at this in a specific context (the Magma package for linear algebra on CPUs/GPUs). Here's an example Makefile from Magma.\n",
    "\n"
   ]
  },
  {
   "cell_type": "code",
   "execution_count": 1,
   "metadata": {
    "collapsed": false
   },
   "outputs": [
    {
     "name": "stdout",
     "output_type": "stream",
     "text": [
      "# set prefix only if not already set (i.e., this provides a default value)\n",
      "prefix ?= /usr/local/magma\n",
      "\n",
      "bin:\n",
      "        cd bin && $(MAKE)\n",
      "\n",
      "lib:\n",
      "\t@echo ======================================== magmablas\n",
      "\t( cd magmablas      && $(MAKE) )\n",
      "\t@echo ======================================== src\n",
      "\t( cd src            && $(MAKE) )\n",
      "\t@echo ======================================== control\n",
      "\t( cd control        && $(MAKE) )\n",
      "\t@echo ======================================== interface\n",
      "\t( cd interface_cuda && $(MAKE) )\n",
      "\n",
      "dir:\n",
      "\tmkdir -p $(prefix)\n",
      "\tmkdir -p $(prefix)/bin\n",
      "\tmkdir -p $(prefix)/include\n",
      "\tmkdir -p $(prefix)/lib\n",
      "\tmkdir -p $(prefix)/lib/pkgconfig\n",
      "\n",
      "install: bin lib dir\n",
      "\tcp $(MAGMA_DIR)/include/*.h  $(prefix)/include\n",
      "\tcp $(LIBMAGMA)               $(prefix)/lib\n",
      "\t-cp $(LIBMAGMA_SO)           $(prefix)/lib\n",
      "        cp $(BINARY}                 $(prefix)/bin\n"
     ]
    }
   ],
   "source": [
    "%%bash\n",
    "cat install_example/Makefile"
   ]
  },
  {
   "cell_type": "markdown",
   "metadata": {},
   "source": [
    "You may see syntax like this:\n",
    "```bash\n",
    "include make.inc\n",
    "-include Makefile.internal\n",
    "```\n",
    "\n",
    "This will process the 'included' files. For example make.inc may contain a bunch of variables that are to be shared across Makefiles.\n",
    "\n",
    "The '-include' says to ignore the inclusion if the file doesn't exist."
   ]
  },
  {
   "cell_type": "code",
   "execution_count": 3,
   "metadata": {
    "collapsed": false
   },
   "outputs": [],
   "source": [
    "%%bash\n",
    "cd /tmp\n",
    "# wget http://icl.cs.utk.edu/projectsfiles/magma/downloads/magma-1.6.1.tar.gz\n",
    "# tar -xvzf magma-1.6.1.tar.gz"
   ]
  },
  {
   "cell_type": "markdown",
   "metadata": {},
   "source": [
    "Now we can take a look at the various Makefiles. Poking around a bit, it looks like the master Makefile includes Makefile.internal, which has a bunch of variable definitions and pattern recipes. Makefile.internal also includes make.inc, which varies depending on the BLAS used. E.g., make.inc.openblas has compilation-related variables specific to linking in OpenBLAS. The master Makefile invokes Makefiles in subdirectories to compile various components of the codebase. "
   ]
  },
  {
   "cell_type": "markdown",
   "metadata": {},
   "source": [
    "\n",
    "\n"
   ]
  }
 ],
 "metadata": {
  "kernelspec": {
   "display_name": "Python 2",
   "language": "python",
   "name": "python2"
  },
  "language_info": {
   "codemirror_mode": {
    "name": "ipython",
    "version": 2
   },
   "file_extension": ".py",
   "mimetype": "text/x-python",
   "name": "python",
   "nbconvert_exporter": "python",
   "pygments_lexer": "ipython2",
   "version": "2.7.6"
  }
 },
 "nbformat": 4,
 "nbformat_minor": 0
}
